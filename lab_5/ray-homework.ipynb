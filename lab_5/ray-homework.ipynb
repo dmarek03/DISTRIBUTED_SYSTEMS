{
 "cells": [
  {
   "cell_type": "code",
   "id": "initial_id",
   "metadata": {
    "collapsed": true,
    "ExecuteTime": {
     "end_time": "2025-05-11T14:04:40.597419Z",
     "start_time": "2025-05-11T14:04:37.884255Z"
    }
   },
   "source": [
    "import ray\n",
    "if ray.is_initialized:\n",
    "    ray.shutdown()\n",
    "ray.init(address='ray://localhost:10001', ignore_reinit_error=True)\n",
    "CHUNK_SIZE = 1024\n",
    "REPLICATION_FACTOR = 3"
   ],
   "outputs": [
    {
     "name": "stderr",
     "output_type": "stream",
     "text": [
      "2025-05-11 16:04:38,103\tINFO client_builder.py:244 -- Passing the following kwargs to ray.init() on the server: ignore_reinit_error, log_to_driver\n",
      "2025-05-11 16:04:40,575\tWARNING utils.py:1569 -- Python patch version mismatch: The cluster was started with:\n",
      "    Ray: 2.44.1\n",
      "    Python: 3.11.11\n",
      "This process on Ray Client was started with:\n",
      "    Ray: 2.44.1\n",
      "    Python: 3.11.5\n",
      "\n"
     ]
    }
   ],
   "execution_count": 9
  },
  {
   "metadata": {
    "ExecuteTime": {
     "end_time": "2025-05-11T14:04:42.288962Z",
     "start_time": "2025-05-11T14:04:42.281033Z"
    }
   },
   "cell_type": "code",
   "source": [
    "@ray.remote\n",
    "class StorageNode:\n",
    "    def __init__(self, node_id):\n",
    "        self.node_id = node_id\n",
    "        self.chunks = {}\n",
    "        self.alive = True\n",
    "\n",
    "    def store_chunk(self, artifact_id, chunk_idx, data):\n",
    "        if not self.alive:\n",
    "            raise RuntimeError(f\"Node {self.node_id} is down\")\n",
    "        self.chunks.setdefault(artifact_id, {})[chunk_idx] = data\n",
    "        return True\n",
    "\n",
    "    def get_chunk(self, artifact_id, chunk_idx):\n",
    "        return self.chunks.get(artifact_id, {}).get(chunk_idx)\n",
    "\n",
    "    def delete_artifact(self, artifact_id):\n",
    "        self.chunks.pop(artifact_id, None)\n",
    "        return True\n",
    "\n",
    "    def list_chunks(self):\n",
    "        return {aid: list(m.keys()) for aid, m in self.chunks.items()}\n",
    "\n",
    "    def set_status(self, alive: bool):\n",
    "        self.alive = alive\n",
    "        return self.alive\n",
    "\n",
    "    def is_alive(self):\n",
    "        return self.alive\n",
    "\n",
    "\n"
   ],
   "id": "cf124eb484a76760",
   "outputs": [],
   "execution_count": 10
  },
  {
   "metadata": {
    "ExecuteTime": {
     "end_time": "2025-05-11T14:04:44.611275Z",
     "start_time": "2025-05-11T14:04:44.589371Z"
    }
   },
   "cell_type": "code",
   "source": [
    "@ray.remote\n",
    "class NameNode:\n",
    "    def __init__(self):\n",
    "        self.metadata = {}\n",
    "        self.locations = {}\n",
    "        self.nodes = {}\n",
    "\n",
    "    def register_node(self, node_id, actor_handle):\n",
    "        self.nodes[node_id] = actor_handle\n",
    "        return True\n",
    "\n",
    "    def unregister_node(self, node_id):\n",
    "        self.nodes.pop(node_id, None)\n",
    "        return True\n",
    "\n",
    "    def put_artifact(self, artifact_id, name, data):\n",
    "        chunks = [data[i:i+CHUNK_SIZE] for i in range(0, len(data), CHUNK_SIZE)]\n",
    "        self.metadata[artifact_id] = {'name': name, 'chunks': len(chunks)}\n",
    "        self.locations[artifact_id] = {}\n",
    "        node_ids = list(self.nodes.keys())\n",
    "        for idx, chunk in enumerate(chunks):\n",
    "            replicas = [node_ids[(idx + r) % len(node_ids)] for r in range(REPLICATION_FACTOR)]\n",
    "            self.locations[artifact_id][idx] = replicas\n",
    "            for nid in replicas:\n",
    "                self.nodes[nid].store_chunk.remote(artifact_id, idx, chunk)\n",
    "        return True\n",
    "\n",
    "    def get_artifact(self, artifact_id):\n",
    "        if artifact_id not in self.metadata:\n",
    "            raise KeyError(\"Artifact not found\")\n",
    "        total = self.metadata[artifact_id]['chunks']\n",
    "        result = []\n",
    "        for idx in range(total):\n",
    "            for nid in self.locations[artifact_id][idx]:\n",
    "                node = self.nodes[nid]\n",
    "                if ray.get(node.is_alive.remote()):\n",
    "                    data = ray.get(node.get_chunk.remote(artifact_id, idx))\n",
    "                    result.append(data)\n",
    "                    break\n",
    "            else:\n",
    "                raise RuntimeError(f\"No alive replica for chunk {idx}\")\n",
    "        return self.metadata[artifact_id]['name'], ''.join(result)\n",
    "\n",
    "    def update_artifact(self, artifact_id, new_data):\n",
    "        name = self.metadata[artifact_id]['name']\n",
    "        self.delete_artifact(artifact_id)\n",
    "        return self.put_artifact(artifact_id, name, new_data)\n",
    "\n",
    "    def delete_artifact(self, artifact_id):\n",
    "        for idx, nodes in self.locations.get(artifact_id, {}).items():\n",
    "            for nid in nodes:\n",
    "                if nid in self.nodes:\n",
    "                    self.nodes[nid].delete_artifact.remote(artifact_id)\n",
    "        self.metadata.pop(artifact_id, None)\n",
    "        self.locations.pop(artifact_id, None)\n",
    "        return True\n",
    "\n",
    "    def list_metadata(self):\n",
    "        return self.metadata\n",
    "\n",
    "    def list_locations(self):\n",
    "        return self.locations\n"
   ],
   "id": "e4fcf6d43393796",
   "outputs": [],
   "execution_count": 11
  },
  {
   "metadata": {
    "ExecuteTime": {
     "end_time": "2025-05-11T14:06:16.445485Z",
     "start_time": "2025-05-11T14:06:12.577375Z"
    }
   },
   "cell_type": "code",
   "source": [
    "name_node = NameNode.remote()\n",
    "nodes = {}\n",
    "for i in range(5):\n",
    "    nid = f\"node-{i}\"\n",
    "    node = StorageNode.remote(nid)\n",
    "    nodes[nid] = node\n",
    "    ray.get(name_node.register_node.remote(nid, node))\n",
    "\n",
    "node_with_options = StorageNode.options(name=\"node-special\", num_cpus=0.5).remote(\"node-special\")\n",
    "nodes['node-special'] = node_with_options\n",
    "ray.get(name_node.register_node.remote(\"node-special\", node_with_options))\n",
    "# PUT\n",
    "long_data = 'A' * 5000\n",
    "ray.get(name_node.put_artifact.remote('art1', 'TestArtifact', long_data))\n",
    "print('Metadata after PUT:', ray.get(name_node.list_metadata.remote()))\n",
    "print('Locations after PUT:', ray.get(name_node.list_locations.remote()))\n",
    "\n",
    "# GET\n",
    "name, content = ray.get(name_node.get_artifact.remote('art1'))\n",
    "print(f\"GET: {name}, length={len(content)}\")\n",
    "\n",
    "# UPDATE\n",
    "new_data = 'B' * 3000\n",
    "ray.get(name_node.update_artifact.remote('art1', new_data))\n",
    "print('Metadata after UPDATE:', ray.get(name_node.list_metadata.remote()))\n",
    "\n",
    "# DELETE\n",
    "ray.get(name_node.delete_artifact.remote('art1'))\n",
    "print('Metadata after DELETE:', ray.get(name_node.list_metadata.remote()))\n",
    "\n",
    "# Failover\n",
    "ray.get(nodes['node-2'].set_status.remote(False))\n",
    "ray.get(name_node.put_artifact.remote('art2', 'Artifact2', 'C'*2048))\n",
    "print('Locations with failure:', ray.get(name_node.list_locations.remote()))\n",
    "name2, content2 = ray.get(name_node.get_artifact.remote('art2'))\n",
    "print(f\"GET after failure: {name2}, length={len(content2)}\")\n",
    "\n"
   ],
   "id": "1143c1b28428f060",
   "outputs": [
    {
     "name": "stdout",
     "output_type": "stream",
     "text": [
      "Metadata after PUT: {'art1': {'name': 'TestArtifact', 'chunks': 5}}\n",
      "Locations after PUT: {'art1': {0: ['node-0', 'node-1', 'node-2'], 1: ['node-1', 'node-2', 'node-3'], 2: ['node-2', 'node-3', 'node-4'], 3: ['node-3', 'node-4', 'node-special'], 4: ['node-4', 'node-special', 'node-0']}}\n",
      "GET: TestArtifact, length=5000\n",
      "Metadata after UPDATE: {'art1': {'name': 'TestArtifact', 'chunks': 3}}\n",
      "Metadata after DELETE: {}\n",
      "Locations with failure: {'art2': {0: ['node-0', 'node-1', 'node-2'], 1: ['node-1', 'node-2', 'node-3']}}\n",
      "GET after failure: Artifact2, length=2048\n"
     ]
    }
   ],
   "execution_count": 13
  }
 ],
 "metadata": {
  "kernelspec": {
   "display_name": "Python 3",
   "language": "python",
   "name": "python3"
  },
  "language_info": {
   "codemirror_mode": {
    "name": "ipython",
    "version": 2
   },
   "file_extension": ".py",
   "mimetype": "text/x-python",
   "name": "python",
   "nbconvert_exporter": "python",
   "pygments_lexer": "ipython2",
   "version": "2.7.6"
  }
 },
 "nbformat": 4,
 "nbformat_minor": 5
}
